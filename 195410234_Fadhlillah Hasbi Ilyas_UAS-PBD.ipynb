{
 "cells": [
  {
   "cell_type": "code",
   "execution_count": 17,
   "metadata": {},
   "outputs": [],
   "source": [
    "#menyiapkan library yang akan digunakan untuk menampilkan dataset dan memvisualisasikan dataset tersebut\n",
    "import pandas as pd\n",
    "import numpy as np\n",
    "import matplotlib.pyplot as plt\n",
    "%matplotlib inline\n",
    "import seaborn as sns\n",
    "sns.set()"
   ]
  },
  {
   "cell_type": "code",
   "execution_count": 16,
   "metadata": {},
   "outputs": [],
   "source": [
    "#suber data set\n",
    "#link sumber data set https://data.jakarta.go.id/dataset/data-jumlah-bank-sampah-wil-administrasi-dki-jakarta/resource/2f8e54f6-0f2a-4283-beff-dd3da95ac6f5\n",
    "df = pd.read_csv('BankSampahJuli2016.csv')"
   ]
  },
  {
   "cell_type": "code",
   "execution_count": 6,
   "metadata": {},
   "outputs": [
    {
     "data": {
      "text/html": [
       "<div>\n",
       "<style scoped>\n",
       "    .dataframe tbody tr th:only-of-type {\n",
       "        vertical-align: middle;\n",
       "    }\n",
       "\n",
       "    .dataframe tbody tr th {\n",
       "        vertical-align: top;\n",
       "    }\n",
       "\n",
       "    .dataframe thead th {\n",
       "        text-align: right;\n",
       "    }\n",
       "</style>\n",
       "<table border=\"1\" class=\"dataframe\">\n",
       "  <thead>\n",
       "    <tr style=\"text-align: right;\">\n",
       "      <th></th>\n",
       "      <th>wilayah</th>\n",
       "      <th>jml_bank_sampah</th>\n",
       "      <th>jml_nasabah</th>\n",
       "      <th>jenis_sampah</th>\n",
       "      <th>jumlah</th>\n",
       "    </tr>\n",
       "  </thead>\n",
       "  <tbody>\n",
       "    <tr>\n",
       "      <td>0</td>\n",
       "      <td>Jakarta Pusat</td>\n",
       "      <td>145</td>\n",
       "      <td>2707</td>\n",
       "      <td>Kertas</td>\n",
       "      <td>44012.0</td>\n",
       "    </tr>\n",
       "    <tr>\n",
       "      <td>1</td>\n",
       "      <td>Jakarta Utara</td>\n",
       "      <td>58</td>\n",
       "      <td>5362</td>\n",
       "      <td>Kertas</td>\n",
       "      <td>16796.5</td>\n",
       "    </tr>\n",
       "    <tr>\n",
       "      <td>2</td>\n",
       "      <td>Jakarta Barat</td>\n",
       "      <td>83</td>\n",
       "      <td>3405</td>\n",
       "      <td>Kertas</td>\n",
       "      <td>10189.5</td>\n",
       "    </tr>\n",
       "    <tr>\n",
       "      <td>3</td>\n",
       "      <td>Jakarta Selatan</td>\n",
       "      <td>35</td>\n",
       "      <td>3198</td>\n",
       "      <td>Kertas</td>\n",
       "      <td>4596.6</td>\n",
       "    </tr>\n",
       "    <tr>\n",
       "      <td>4</td>\n",
       "      <td>Jakarta Timur</td>\n",
       "      <td>98</td>\n",
       "      <td>7157</td>\n",
       "      <td>Kertas</td>\n",
       "      <td>27816.0</td>\n",
       "    </tr>\n",
       "    <tr>\n",
       "      <td>5</td>\n",
       "      <td>Jakarta Pusat</td>\n",
       "      <td>145</td>\n",
       "      <td>2707</td>\n",
       "      <td>Plastik</td>\n",
       "      <td>61970.0</td>\n",
       "    </tr>\n",
       "    <tr>\n",
       "      <td>6</td>\n",
       "      <td>Jakarta Utara</td>\n",
       "      <td>58</td>\n",
       "      <td>5362</td>\n",
       "      <td>Plastik</td>\n",
       "      <td>17868.8</td>\n",
       "    </tr>\n",
       "    <tr>\n",
       "      <td>7</td>\n",
       "      <td>Jakarta Barat</td>\n",
       "      <td>83</td>\n",
       "      <td>3405</td>\n",
       "      <td>Plastik</td>\n",
       "      <td>5793.0</td>\n",
       "    </tr>\n",
       "    <tr>\n",
       "      <td>8</td>\n",
       "      <td>Jakarta Selatan</td>\n",
       "      <td>35</td>\n",
       "      <td>3198</td>\n",
       "      <td>Plastik</td>\n",
       "      <td>4189.6</td>\n",
       "    </tr>\n",
       "    <tr>\n",
       "      <td>9</td>\n",
       "      <td>Jakarta Timur</td>\n",
       "      <td>98</td>\n",
       "      <td>7157</td>\n",
       "      <td>Plastik</td>\n",
       "      <td>20071.0</td>\n",
       "    </tr>\n",
       "    <tr>\n",
       "      <td>10</td>\n",
       "      <td>Jakarta Pusat</td>\n",
       "      <td>145</td>\n",
       "      <td>2707</td>\n",
       "      <td>Logam</td>\n",
       "      <td>9152.6</td>\n",
       "    </tr>\n",
       "    <tr>\n",
       "      <td>11</td>\n",
       "      <td>Jakarta Utara</td>\n",
       "      <td>58</td>\n",
       "      <td>5362</td>\n",
       "      <td>Logam</td>\n",
       "      <td>7875.6</td>\n",
       "    </tr>\n",
       "    <tr>\n",
       "      <td>12</td>\n",
       "      <td>Jakarta Barat</td>\n",
       "      <td>83</td>\n",
       "      <td>3405</td>\n",
       "      <td>Logam</td>\n",
       "      <td>2078.0</td>\n",
       "    </tr>\n",
       "    <tr>\n",
       "      <td>13</td>\n",
       "      <td>Jakarta Selatan</td>\n",
       "      <td>35</td>\n",
       "      <td>3198</td>\n",
       "      <td>Logam</td>\n",
       "      <td>867.2</td>\n",
       "    </tr>\n",
       "    <tr>\n",
       "      <td>14</td>\n",
       "      <td>Jakarta Timur</td>\n",
       "      <td>98</td>\n",
       "      <td>7157</td>\n",
       "      <td>Logam</td>\n",
       "      <td>4528.0</td>\n",
       "    </tr>\n",
       "    <tr>\n",
       "      <td>15</td>\n",
       "      <td>Jakarta Pusat</td>\n",
       "      <td>145</td>\n",
       "      <td>2707</td>\n",
       "      <td>Beling dan Gabrug</td>\n",
       "      <td>NaN</td>\n",
       "    </tr>\n",
       "    <tr>\n",
       "      <td>16</td>\n",
       "      <td>Jakarta Utara</td>\n",
       "      <td>58</td>\n",
       "      <td>5362</td>\n",
       "      <td>Beling dan Gabrug</td>\n",
       "      <td>NaN</td>\n",
       "    </tr>\n",
       "    <tr>\n",
       "      <td>17</td>\n",
       "      <td>Jakarta Barat</td>\n",
       "      <td>83</td>\n",
       "      <td>3405</td>\n",
       "      <td>Beling dan Gabrug</td>\n",
       "      <td>NaN</td>\n",
       "    </tr>\n",
       "    <tr>\n",
       "      <td>18</td>\n",
       "      <td>Jakarta Selatan</td>\n",
       "      <td>35</td>\n",
       "      <td>3198</td>\n",
       "      <td>Beling dan Gabrug</td>\n",
       "      <td>1393.5</td>\n",
       "    </tr>\n",
       "    <tr>\n",
       "      <td>19</td>\n",
       "      <td>Jakarta Timur</td>\n",
       "      <td>98</td>\n",
       "      <td>7157</td>\n",
       "      <td>Beling dan Gabrug</td>\n",
       "      <td>NaN</td>\n",
       "    </tr>\n",
       "  </tbody>\n",
       "</table>\n",
       "</div>"
      ],
      "text/plain": [
       "             wilayah  jml_bank_sampah  jml_nasabah       jenis_sampah   jumlah\n",
       "0     Jakarta Pusat               145         2707             Kertas  44012.0\n",
       "1     Jakarta Utara                58         5362             Kertas  16796.5\n",
       "2     Jakarta Barat                83         3405             Kertas  10189.5\n",
       "3   Jakarta Selatan                35         3198             Kertas   4596.6\n",
       "4     Jakarta Timur                98         7157             Kertas  27816.0\n",
       "5     Jakarta Pusat               145         2707            Plastik  61970.0\n",
       "6     Jakarta Utara                58         5362            Plastik  17868.8\n",
       "7     Jakarta Barat                83         3405            Plastik   5793.0\n",
       "8   Jakarta Selatan                35         3198            Plastik   4189.6\n",
       "9     Jakarta Timur                98         7157            Plastik  20071.0\n",
       "10    Jakarta Pusat               145         2707              Logam   9152.6\n",
       "11    Jakarta Utara                58         5362              Logam   7875.6\n",
       "12    Jakarta Barat                83         3405              Logam   2078.0\n",
       "13  Jakarta Selatan                35         3198              Logam    867.2\n",
       "14    Jakarta Timur                98         7157              Logam   4528.0\n",
       "15    Jakarta Pusat               145         2707  Beling dan Gabrug      NaN\n",
       "16    Jakarta Utara                58         5362  Beling dan Gabrug      NaN\n",
       "17    Jakarta Barat                83         3405  Beling dan Gabrug      NaN\n",
       "18  Jakarta Selatan                35         3198  Beling dan Gabrug   1393.5\n",
       "19    Jakarta Timur                98         7157  Beling dan Gabrug      NaN"
      ]
     },
     "execution_count": 6,
     "metadata": {},
     "output_type": "execute_result"
    }
   ],
   "source": [
    "df"
   ]
  },
  {
   "cell_type": "code",
   "execution_count": 8,
   "metadata": {},
   "outputs": [
    {
     "data": {
      "image/png": "[encoded data removed]",
      "text/plain": [
       "<Figure size 432x288 with 1 Axes>"
      ]
     },
     "metadata": {},
     "output_type": "display_data"
    }
   ],
   "source": [
    "#melakukan visualisasi dengan lineplot\n",
    "ax = sns.lineplot(x='wilayah', y='jml_bank_sampah', data=df)"
   ]
  },
  {
   "cell_type": "code",
   "execution_count": 13,
   "metadata": {},
   "outputs": [
    {
     "data": {
      "image/png": "[encoded data removed]",
      "text/plain": [
       "<Figure size 432x288 with 1 Axes>"
      ]
     },
     "metadata": {},
     "output_type": "display_data"
    }
   ],
   "source": [
    "#melakukan visualisasi dengan scatterplot\n",
    "ax = sns.scatterplot(x='wilayah', y='jml_bank_sampah', data=df)"
   ]
  },
  {
   "cell_type": "code",
   "execution_count": 15,
   "metadata": {},
   "outputs": [
    {
     "data": {
      "text/plain": [
       "<matplotlib.axes._subplots.AxesSubplot at 0x26635624208>"
      ]
     },
     "execution_count": 15,
     "metadata": {},
     "output_type": "execute_result"
    },
    {
     "data": {
      "image/png": "[encoded data removed]",
      "text/plain": [
       "<Figure size 432x288 with 1 Axes>"
      ]
     },
     "metadata": {},
     "output_type": "display_data"
    }
   ],
   "source": [
    "#melakukan visualisasi dengan distplot\n",
    "df = np.random.normal(size=100)\n",
    "sns.distplot(df)"
   ]
  },
  {
   "cell_type": "code",
   "execution_count": 18,
   "metadata": {},
   "outputs": [
    {
     "data": {
      "image/png": "[encoded data removed]",
      "text/plain": [
       "<Figure size 432x288 with 1 Axes>"
      ]
     },
     "metadata": {},
     "output_type": "display_data"
    }
   ],
   "source": [
    "#melakukan visualisasi dengan barplot\n",
    "ax = sns.barplot(x='wilayah', y='jml_bank_sampah', data=df)"
   ]
  },
  {
   "cell_type": "code",
   "execution_count": null,
   "metadata": {},
   "outputs": [],
   "source": []
  }
 ],
 "metadata": {
  "kernelspec": {
   "display_name": "Python 3",
   "language": "python",
   "name": "python3"
  },
  "language_info": {
   "codemirror_mode": {
    "name": "ipython",
    "version": 3
   },
   "file_extension": ".py",
   "mimetype": "text/x-python",
   "name": "python",
   "nbconvert_exporter": "python",
   "pygments_lexer": "ipython3",
   "version": "3.7.4"
  }
 },
 "nbformat": 4,
 "nbformat_minor": 2
}
